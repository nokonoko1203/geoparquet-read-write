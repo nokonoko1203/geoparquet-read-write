{
 "cells": [
  {
   "cell_type": "code",
   "execution_count": 1,
   "id": "4098f639-5e0f-4943-90ae-ae9afd193a17",
   "metadata": {},
   "outputs": [
    {
     "name": "stdout",
     "output_type": "stream",
     "text": [
      "CPU times: user 843 ms, sys: 100 ms, total: 943 ms\n",
      "Wall time: 555 ms\n"
     ]
    }
   ],
   "source": [
    "%%time\n",
    "import geopandas as gpd\n",
    "import numpy as np\n",
    "from shapely.geometry import box"
   ]
  },
  {
   "cell_type": "code",
   "execution_count": 2,
   "id": "227237b2-faf6-4057-a054-8b50dea6beb4",
   "metadata": {},
   "outputs": [
    {
     "name": "stdout",
     "output_type": "stream",
     "text": [
      "CPU times: user 1.28 ms, sys: 1.09 ms, total: 2.37 ms\n",
      "Wall time: 1.48 ms\n"
     ]
    }
   ],
   "source": [
    "%%time\n",
    "box = box(-180, -90, 180, 90)\n",
    "data = {\"geometry\": [box.wkt]}\n",
    "\n",
    "poly = gpd.GeoSeries.from_wkt(data[\"geometry\"]).unary_union\n",
    "\n",
    "x_min, y_min, x_max, y_max = poly.bounds\n",
    "# CPU times: user 1.28 ms, sys: 1.09 ms, total: 2.37 ms\n",
    "# Wall time: 1.48 ms"
   ]
  },
  {
   "cell_type": "code",
   "execution_count": 3,
   "id": "ebcdee3b-9c2f-4cc3-9b16-a40df7b7d17e",
   "metadata": {},
   "outputs": [
    {
     "name": "stdout",
     "output_type": "stream",
     "text": [
      "CPU times: user 150 ms, sys: 30.1 ms, total: 180 ms\n",
      "Wall time: 179 ms\n"
     ]
    }
   ],
   "source": [
    "%%time\n",
    "\n",
    "n = 10_000_000\n",
    "\n",
    "x = np.random.uniform(x_min, x_max, n)\n",
    "y = np.random.uniform(y_min, y_max, n)\n",
    "# CPU times: user 150 ms, sys: 30.1 ms, total: 180 ms\n",
    "# Wall time: 179 ms"
   ]
  },
  {
   "cell_type": "code",
   "execution_count": 4,
   "id": "ad64c770-f4ff-453f-8fa6-dae4e55cfba0",
   "metadata": {},
   "outputs": [
    {
     "name": "stdout",
     "output_type": "stream",
     "text": [
      "CPU times: user 3.39 s, sys: 387 ms, total: 3.78 s\n",
      "Wall time: 3.78 s\n"
     ]
    }
   ],
   "source": [
    "%%time\n",
    "points = gpd.GeoSeries(gpd.points_from_xy(x, y))\n",
    "points = points[points.within(poly)]\n",
    "# CPU times: user 3.39 s, sys: 387 ms, total: 3.78 s\n",
    "# Wall time: 3.78 s"
   ]
  },
  {
   "cell_type": "code",
   "execution_count": 5,
   "id": "e4b9b4f8-765a-4160-a2f7-624eeb242961",
   "metadata": {},
   "outputs": [
    {
     "name": "stdout",
     "output_type": "stream",
     "text": [
      "CPU times: user 406 ms, sys: 108 ms, total: 513 ms\n",
      "Wall time: 512 ms\n"
     ]
    }
   ],
   "source": [
    "%%time\n",
    "gdf = gpd.GeoDataFrame(geometry=points)\n",
    "# CPU times: user 406 ms, sys: 108 ms, total: 513 ms\n",
    "# Wall time: 512 ms"
   ]
  },
  {
   "cell_type": "code",
   "execution_count": 7,
   "id": "41ea2f71-062a-43e8-a324-72168ded17f3",
   "metadata": {},
   "outputs": [
    {
     "name": "stderr",
     "output_type": "stream",
     "text": [
      "<timed eval>:2: UserWarning: this is an initial implementation of Parquet/Feather file support and associated metadata.  This is tracking version 0.1.0 of the metadata specification at https://github.com/geopandas/geo-arrow-spec\n",
      "\n",
      "This metadata specification does not yet make stability promises.  We do not yet recommend using this in a production setting unless you are able to rewrite your Parquet/Feather files.\n",
      "\n",
      "To further ignore this warning, you can do: \n",
      "import warnings; warnings.filterwarnings('ignore', message='.*initial implementation of Parquet.*')\n"
     ]
    },
    {
     "name": "stdout",
     "output_type": "stream",
     "text": [
      "CPU times: user 28.8 s, sys: 2.2 s, total: 31 s\n",
      "Wall time: 31.5 s\n"
     ]
    }
   ],
   "source": [
    "%%time\n",
    "# GeoParquet\n",
    "gdf.to_parquet(\n",
    "    \"export.parquet\",\n",
    "    index=False,\n",
    "    compression=\"brotli\",\n",
    ")\n",
    "# CPU times: user 28.8 s, sys: 2.2 s, total: 31 s\n",
    "# Wall time: 31.5 s"
   ]
  },
  {
   "cell_type": "code",
   "execution_count": 8,
   "id": "0f6b2907-5a89-4cd7-b763-da0c35f61ef9",
   "metadata": {},
   "outputs": [
    {
     "name": "stdout",
     "output_type": "stream",
     "text": [
      "CPU times: user 11min 7s, sys: 2min 28s, total: 13min 36s\n",
      "Wall time: 13min 37s\n"
     ]
    }
   ],
   "source": [
    "%%time\n",
    "# GeoPackage\n",
    "gdf.to_file(\"export.gpkg\", index=False, driver=\"GPKG\", layer=\"layer\")\n",
    "# CPU times: user 11min 7s, sys: 2min 28s, total: 13min 36s\n",
    "# Wall time: 13min 37s"
   ]
  },
  {
   "cell_type": "code",
   "execution_count": 9,
   "id": "96de0783-4878-4d90-860e-edbafa727e9b",
   "metadata": {},
   "outputs": [
    {
     "name": "stdout",
     "output_type": "stream",
     "text": [
      "CPU times: user 7min 55s, sys: 5.25 s, total: 8min\n",
      "Wall time: 8min 6s\n"
     ]
    }
   ],
   "source": [
    "%%time\n",
    "# FlatGeobuf\n",
    "gdf.to_file(\"export.fgb\", index=False, driver=\"FlatGeobuf\", spatial_index=\"NO\")\n",
    "# CPU times: user 7min 55s, sys: 5.25 s, total: 8min\n",
    "# Wall time: 8min 6s"
   ]
  },
  {
   "cell_type": "code",
   "execution_count": 10,
   "id": "5da89ddc-455e-412a-820e-3996326948c3",
   "metadata": {},
   "outputs": [
    {
     "name": "stdout",
     "output_type": "stream",
     "text": [
      "CPU times: user 9min 47s, sys: 8.96 s, total: 9min 56s\n",
      "Wall time: 10min\n"
     ]
    }
   ],
   "source": [
    "%%time\n",
    "# GeoJSON\n",
    "gdf.to_file(\"export.geojson\", index=False, driver=\"GeoJSON\")\n",
    "# CPU times: user 9min 47s, sys: 8.96 s, total: 9min 56s\n",
    "# Wall time: 10min"
   ]
  },
  {
   "cell_type": "code",
   "execution_count": 11,
   "id": "316ed736-98fb-4a40-8576-a77846b67b5a",
   "metadata": {},
   "outputs": [
    {
     "name": "stdout",
     "output_type": "stream",
     "text": [
      "CPU times: user 8min 29s, sys: 1min, total: 9min 29s\n",
      "Wall time: 9min 30s\n"
     ]
    }
   ],
   "source": [
    "%%time\n",
    "# Shapefile\n",
    "gdf.to_file(\"export.shp\", index=False, driver=\"ESRI Shapefile\")\n",
    "# CPU times: user 8min 29s, sys: 1min, total: 9min 29s\n",
    "# Wall time: 9min 30s"
   ]
  },
  {
   "cell_type": "code",
   "execution_count": 15,
   "id": "5b79d2f7-52f0-4895-be3e-3d9d1d98e260",
   "metadata": {},
   "outputs": [],
   "source": [
    "import math\n",
    "\n",
    "\n",
    "def convert_size(size):\n",
    "    units = (\"B\", \"KB\", \"MB\", \"GB\", \"TB\", \"PB\", \"EB\", \"ZB\")\n",
    "    i = math.floor(math.log(size, 1024)) if size > 0 else 0\n",
    "    size = round(size / 1024**i, 2)\n",
    "\n",
    "    return f\"{size} {units[i]}\""
   ]
  },
  {
   "cell_type": "code",
   "execution_count": 16,
   "id": "75cffaa7-8be4-4a42-bec3-b991d495b074",
   "metadata": {},
   "outputs": [
    {
     "name": "stdout",
     "output_type": "stream",
     "text": [
      "geo_parquet=150.0 MB\n",
      "geo_package=903.49 MB\n",
      "flat_geobuf=610.35 MB\n",
      "geojson=1.26 GB\n",
      "shapefile=457.76 MB\n",
      "CPU times: user 748 µs, sys: 396 µs, total: 1.14 ms\n",
      "Wall time: 884 µs\n"
     ]
    }
   ],
   "source": [
    "%%time\n",
    "import os\n",
    "\n",
    "geo_parquet = os.path.getsize(\"export.parquet\")\n",
    "geo_package = os.path.getsize(\"export.gpkg\")\n",
    "flat_geobuf = os.path.getsize(\"export.fgb\")\n",
    "geojson = os.path.getsize(\"export.geojson\")\n",
    "shapefile = (\n",
    "    os.path.getsize(\"export.shp\")\n",
    "    + os.path.getsize(\"export.shx\")\n",
    "    + os.path.getsize(\"export.cpg\")\n",
    "    + os.path.getsize(\"export.dbf\")\n",
    ")\n",
    "\n",
    "print(f\"geo_parquet={convert_size(geo_parquet)}\")\n",
    "print(f\"geo_package={convert_size(geo_package)}\")\n",
    "print(f\"flat_geobuf={convert_size(flat_geobuf)}\")\n",
    "print(f\"geojson={convert_size(geojson)}\")\n",
    "print(f\"shapefile={convert_size(shapefile)}\")\n",
    "\n",
    "# geo_parquet=150.0 MB\n",
    "# geo_package=903.49 MB\n",
    "# flat_geobuf=610.35 MB\n",
    "# geojson=1.26 GB\n",
    "# shapefile=457.76 MB\n",
    "\n",
    "# CPU times: user 748 µs, sys: 396 µs, total: 1.14 ms\n",
    "# Wall time: 884 µs"
   ]
  },
  {
   "cell_type": "code",
   "execution_count": 18,
   "id": "f7498ff5-999a-44b6-b8aa-8e23ca64e9ae",
   "metadata": {},
   "outputs": [
    {
     "name": "stdout",
     "output_type": "stream",
     "text": [
      "CPU times: user 4.66 s, sys: 960 ms, total: 5.62 s\n",
      "Wall time: 5.67 s\n"
     ]
    },
    {
     "data": {
      "text/html": [
       "<div>\n",
       "<style scoped>\n",
       "    .dataframe tbody tr th:only-of-type {\n",
       "        vertical-align: middle;\n",
       "    }\n",
       "\n",
       "    .dataframe tbody tr th {\n",
       "        vertical-align: top;\n",
       "    }\n",
       "\n",
       "    .dataframe thead th {\n",
       "        text-align: right;\n",
       "    }\n",
       "</style>\n",
       "<table border=\"1\" class=\"dataframe\">\n",
       "  <thead>\n",
       "    <tr style=\"text-align: right;\">\n",
       "      <th></th>\n",
       "      <th>geometry</th>\n",
       "    </tr>\n",
       "  </thead>\n",
       "  <tbody>\n",
       "    <tr>\n",
       "      <th>0</th>\n",
       "      <td>POINT (84.21447 -60.10291)</td>\n",
       "    </tr>\n",
       "    <tr>\n",
       "      <th>1</th>\n",
       "      <td>POINT (-72.92868 53.36820)</td>\n",
       "    </tr>\n",
       "    <tr>\n",
       "      <th>2</th>\n",
       "      <td>POINT (-64.87842 44.19289)</td>\n",
       "    </tr>\n",
       "    <tr>\n",
       "      <th>3</th>\n",
       "      <td>POINT (-179.93497 -72.37761)</td>\n",
       "    </tr>\n",
       "    <tr>\n",
       "      <th>4</th>\n",
       "      <td>POINT (26.41531 3.05427)</td>\n",
       "    </tr>\n",
       "  </tbody>\n",
       "</table>\n",
       "</div>"
      ],
      "text/plain": [
       "                       geometry\n",
       "0    POINT (84.21447 -60.10291)\n",
       "1    POINT (-72.92868 53.36820)\n",
       "2    POINT (-64.87842 44.19289)\n",
       "3  POINT (-179.93497 -72.37761)\n",
       "4      POINT (26.41531 3.05427)"
      ]
     },
     "execution_count": 18,
     "metadata": {},
     "output_type": "execute_result"
    }
   ],
   "source": [
    "%%time\n",
    "# GeoParquet\n",
    "geo_parquet_gdf = gpd.read_parquet(\"export.parquet\", columns=[\"geometry\"])\n",
    "geo_parquet_gdf.head()\n",
    "# CPU times: user 4.66 s, sys: 960 ms, total: 5.62 s\n",
    "# Wall time: 5.67 s\n",
    "# geometry\n",
    "# 0\tPOINT (84.21447 -60.10291)\n",
    "# 1\tPOINT (-72.92868 53.36820)\n",
    "# 2\tPOINT (-64.87842 44.19289)\n",
    "# 3\tPOINT (-179.93497 -72.37761)\n",
    "# 4\tPOINT (26.41531 3.05427)"
   ]
  },
  {
   "cell_type": "code",
   "execution_count": 19,
   "id": "bf7d7036-6422-4025-9615-4c140083fa87",
   "metadata": {},
   "outputs": [
    {
     "name": "stdout",
     "output_type": "stream",
     "text": [
      "CPU times: user 3min 8s, sys: 3.86 s, total: 3min 12s\n",
      "Wall time: 3min 12s\n"
     ]
    },
    {
     "data": {
      "text/html": [
       "<div>\n",
       "<style scoped>\n",
       "    .dataframe tbody tr th:only-of-type {\n",
       "        vertical-align: middle;\n",
       "    }\n",
       "\n",
       "    .dataframe tbody tr th {\n",
       "        vertical-align: top;\n",
       "    }\n",
       "\n",
       "    .dataframe thead th {\n",
       "        text-align: right;\n",
       "    }\n",
       "</style>\n",
       "<table border=\"1\" class=\"dataframe\">\n",
       "  <thead>\n",
       "    <tr style=\"text-align: right;\">\n",
       "      <th></th>\n",
       "      <th>geometry</th>\n",
       "    </tr>\n",
       "  </thead>\n",
       "  <tbody>\n",
       "    <tr>\n",
       "      <th>0</th>\n",
       "      <td>POINT (84.21447 -60.10291)</td>\n",
       "    </tr>\n",
       "    <tr>\n",
       "      <th>1</th>\n",
       "      <td>POINT (-72.92868 53.36820)</td>\n",
       "    </tr>\n",
       "    <tr>\n",
       "      <th>2</th>\n",
       "      <td>POINT (-64.87842 44.19289)</td>\n",
       "    </tr>\n",
       "    <tr>\n",
       "      <th>3</th>\n",
       "      <td>POINT (-179.93497 -72.37761)</td>\n",
       "    </tr>\n",
       "    <tr>\n",
       "      <th>4</th>\n",
       "      <td>POINT (26.41531 3.05427)</td>\n",
       "    </tr>\n",
       "  </tbody>\n",
       "</table>\n",
       "</div>"
      ],
      "text/plain": [
       "                       geometry\n",
       "0    POINT (84.21447 -60.10291)\n",
       "1    POINT (-72.92868 53.36820)\n",
       "2    POINT (-64.87842 44.19289)\n",
       "3  POINT (-179.93497 -72.37761)\n",
       "4      POINT (26.41531 3.05427)"
      ]
     },
     "execution_count": 19,
     "metadata": {},
     "output_type": "execute_result"
    }
   ],
   "source": [
    "%%time\n",
    "# GeoPackage\n",
    "geo_package_gdf = gpd.read_file(\"export.gpkg\")\n",
    "geo_package_gdf.head()\n",
    "# CPU times: user 3min 8s, sys: 3.86 s, total: 3min 12s\n",
    "# Wall time: 3min 12s\n",
    "# geometry\n",
    "# 0\tPOINT (84.21447 -60.10291)\n",
    "# 1\tPOINT (-72.92868 53.36820)\n",
    "# 2\tPOINT (-64.87842 44.19289)\n",
    "# 3\tPOINT (-179.93497 -72.37761)\n",
    "# 4\tPOINT (26.41531 3.05427)"
   ]
  },
  {
   "cell_type": "code",
   "execution_count": 20,
   "id": "9abb4bcf-4b20-4d0d-8ab0-086e8884234b",
   "metadata": {},
   "outputs": [
    {
     "name": "stdout",
     "output_type": "stream",
     "text": [
      "CPU times: user 2min 54s, sys: 2.9 s, total: 2min 57s\n",
      "Wall time: 2min 57s\n"
     ]
    },
    {
     "data": {
      "text/html": [
       "<div>\n",
       "<style scoped>\n",
       "    .dataframe tbody tr th:only-of-type {\n",
       "        vertical-align: middle;\n",
       "    }\n",
       "\n",
       "    .dataframe tbody tr th {\n",
       "        vertical-align: top;\n",
       "    }\n",
       "\n",
       "    .dataframe thead th {\n",
       "        text-align: right;\n",
       "    }\n",
       "</style>\n",
       "<table border=\"1\" class=\"dataframe\">\n",
       "  <thead>\n",
       "    <tr style=\"text-align: right;\">\n",
       "      <th></th>\n",
       "      <th>geometry</th>\n",
       "    </tr>\n",
       "  </thead>\n",
       "  <tbody>\n",
       "    <tr>\n",
       "      <th>0</th>\n",
       "      <td>POINT (84.21447 -60.10291)</td>\n",
       "    </tr>\n",
       "    <tr>\n",
       "      <th>1</th>\n",
       "      <td>POINT (-72.92868 53.36820)</td>\n",
       "    </tr>\n",
       "    <tr>\n",
       "      <th>2</th>\n",
       "      <td>POINT (-64.87842 44.19289)</td>\n",
       "    </tr>\n",
       "    <tr>\n",
       "      <th>3</th>\n",
       "      <td>POINT (-179.93497 -72.37761)</td>\n",
       "    </tr>\n",
       "    <tr>\n",
       "      <th>4</th>\n",
       "      <td>POINT (26.41531 3.05427)</td>\n",
       "    </tr>\n",
       "  </tbody>\n",
       "</table>\n",
       "</div>"
      ],
      "text/plain": [
       "                       geometry\n",
       "0    POINT (84.21447 -60.10291)\n",
       "1    POINT (-72.92868 53.36820)\n",
       "2    POINT (-64.87842 44.19289)\n",
       "3  POINT (-179.93497 -72.37761)\n",
       "4      POINT (26.41531 3.05427)"
      ]
     },
     "execution_count": 20,
     "metadata": {},
     "output_type": "execute_result"
    }
   ],
   "source": [
    "%%time\n",
    "# FlatGeobuf\n",
    "flat_geobuf_gdf = gpd.read_file(\"export.fgb\")\n",
    "flat_geobuf_gdf.head()\n",
    "# CPU times: user 2min 54s, sys: 2.9 s, total: 2min 57s\n",
    "# Wall time: 2min 57s\n",
    "# geometry\n",
    "# 0\tPOINT (84.21447 -60.10291)\n",
    "# 1\tPOINT (-72.92868 53.36820)\n",
    "# 2\tPOINT (-64.87842 44.19289)\n",
    "# 3\tPOINT (-179.93497 -72.37761)\n",
    "# 4\tPOINT (26.41531 3.05427)"
   ]
  },
  {
   "cell_type": "code",
   "execution_count": 21,
   "id": "0b72fa08-41ef-4b6b-ad4f-357789781b1c",
   "metadata": {},
   "outputs": [
    {
     "name": "stdout",
     "output_type": "stream",
     "text": [
      "CPU times: user 3min 57s, sys: 3.74 s, total: 4min 1s\n",
      "Wall time: 4min 1s\n"
     ]
    },
    {
     "data": {
      "text/html": [
       "<div>\n",
       "<style scoped>\n",
       "    .dataframe tbody tr th:only-of-type {\n",
       "        vertical-align: middle;\n",
       "    }\n",
       "\n",
       "    .dataframe tbody tr th {\n",
       "        vertical-align: top;\n",
       "    }\n",
       "\n",
       "    .dataframe thead th {\n",
       "        text-align: right;\n",
       "    }\n",
       "</style>\n",
       "<table border=\"1\" class=\"dataframe\">\n",
       "  <thead>\n",
       "    <tr style=\"text-align: right;\">\n",
       "      <th></th>\n",
       "      <th>geometry</th>\n",
       "    </tr>\n",
       "  </thead>\n",
       "  <tbody>\n",
       "    <tr>\n",
       "      <th>0</th>\n",
       "      <td>POINT (84.21447 -60.10291)</td>\n",
       "    </tr>\n",
       "    <tr>\n",
       "      <th>1</th>\n",
       "      <td>POINT (-72.92868 53.36820)</td>\n",
       "    </tr>\n",
       "    <tr>\n",
       "      <th>2</th>\n",
       "      <td>POINT (-64.87842 44.19289)</td>\n",
       "    </tr>\n",
       "    <tr>\n",
       "      <th>3</th>\n",
       "      <td>POINT (-179.93497 -72.37761)</td>\n",
       "    </tr>\n",
       "    <tr>\n",
       "      <th>4</th>\n",
       "      <td>POINT (26.41531 3.05427)</td>\n",
       "    </tr>\n",
       "  </tbody>\n",
       "</table>\n",
       "</div>"
      ],
      "text/plain": [
       "                       geometry\n",
       "0    POINT (84.21447 -60.10291)\n",
       "1    POINT (-72.92868 53.36820)\n",
       "2    POINT (-64.87842 44.19289)\n",
       "3  POINT (-179.93497 -72.37761)\n",
       "4      POINT (26.41531 3.05427)"
      ]
     },
     "execution_count": 21,
     "metadata": {},
     "output_type": "execute_result"
    }
   ],
   "source": [
    "%%time\n",
    "# GeoJSON\n",
    "geojson_gdf = gpd.read_file(\"export.geojson\")\n",
    "geojson_gdf.head()\n",
    "# CPU times: user 3min 57s, sys: 3.74 s, total: 4min 1s\n",
    "# Wall time: 4min 1s\n",
    "# geometry\n",
    "# 0\tPOINT (84.21447 -60.10291)\n",
    "# 1\tPOINT (-72.92868 53.36820)\n",
    "# 2\tPOINT (-64.87842 44.19289)\n",
    "# 3\tPOINT (-179.93497 -72.37761)\n",
    "# 4\tPOINT (26.41531 3.05427)"
   ]
  },
  {
   "cell_type": "code",
   "execution_count": 22,
   "id": "cf38613c-b84f-4769-b0f3-a74e0ccb4efa",
   "metadata": {},
   "outputs": [
    {
     "name": "stdout",
     "output_type": "stream",
     "text": [
      "CPU times: user 3min 40s, sys: 4.54 s, total: 3min 45s\n",
      "Wall time: 3min 46s\n"
     ]
    },
    {
     "data": {
      "text/html": [
       "<div>\n",
       "<style scoped>\n",
       "    .dataframe tbody tr th:only-of-type {\n",
       "        vertical-align: middle;\n",
       "    }\n",
       "\n",
       "    .dataframe tbody tr th {\n",
       "        vertical-align: top;\n",
       "    }\n",
       "\n",
       "    .dataframe thead th {\n",
       "        text-align: right;\n",
       "    }\n",
       "</style>\n",
       "<table border=\"1\" class=\"dataframe\">\n",
       "  <thead>\n",
       "    <tr style=\"text-align: right;\">\n",
       "      <th></th>\n",
       "      <th>FID</th>\n",
       "      <th>geometry</th>\n",
       "    </tr>\n",
       "  </thead>\n",
       "  <tbody>\n",
       "    <tr>\n",
       "      <th>0</th>\n",
       "      <td>0</td>\n",
       "      <td>POINT (84.21447 -60.10291)</td>\n",
       "    </tr>\n",
       "    <tr>\n",
       "      <th>1</th>\n",
       "      <td>1</td>\n",
       "      <td>POINT (-72.92868 53.36820)</td>\n",
       "    </tr>\n",
       "    <tr>\n",
       "      <th>2</th>\n",
       "      <td>2</td>\n",
       "      <td>POINT (-64.87842 44.19289)</td>\n",
       "    </tr>\n",
       "    <tr>\n",
       "      <th>3</th>\n",
       "      <td>3</td>\n",
       "      <td>POINT (-179.93497 -72.37761)</td>\n",
       "    </tr>\n",
       "    <tr>\n",
       "      <th>4</th>\n",
       "      <td>4</td>\n",
       "      <td>POINT (26.41531 3.05427)</td>\n",
       "    </tr>\n",
       "  </tbody>\n",
       "</table>\n",
       "</div>"
      ],
      "text/plain": [
       "   FID                      geometry\n",
       "0    0    POINT (84.21447 -60.10291)\n",
       "1    1    POINT (-72.92868 53.36820)\n",
       "2    2    POINT (-64.87842 44.19289)\n",
       "3    3  POINT (-179.93497 -72.37761)\n",
       "4    4      POINT (26.41531 3.05427)"
      ]
     },
     "execution_count": 22,
     "metadata": {},
     "output_type": "execute_result"
    }
   ],
   "source": [
    "%%time\n",
    "# Shapefile\n",
    "shapefile_gdf = gpd.read_file(\"export.shp\")\n",
    "shapefile_gdf.head()\n",
    "# CPU times: user 3min 40s, sys: 4.54 s, total: 3min 45s\n",
    "# Wall time: 3min 46s\n",
    "# FID\tgeometry\n",
    "# 0\t0\tPOINT (84.21447 -60.10291)\n",
    "# 1\t1\tPOINT (-72.92868 53.36820)\n",
    "# 2\t2\tPOINT (-64.87842 44.19289)\n",
    "# 3\t3\tPOINT (-179.93497 -72.37761)\n",
    "# 4\t4\tPOINT (26.41531 3.05427)"
   ]
  },
  {
   "cell_type": "code",
   "execution_count": 23,
   "id": "59c831d6-2930-431b-b5f0-ca44cc598cdc",
   "metadata": {},
   "outputs": [
    {
     "name": "stdout",
     "output_type": "stream",
     "text": [
      "CPU times: user 11 µs, sys: 2 µs, total: 13 µs\n",
      "Wall time: 16.2 µs\n"
     ]
    },
    {
     "data": {
      "text/plain": [
       "10000000"
      ]
     },
     "execution_count": 23,
     "metadata": {},
     "output_type": "execute_result"
    }
   ],
   "source": [
    "%%time\n",
    "len(geo_parquet_gdf)\n",
    "# CPU times: user 11 µs, sys: 2 µs, total: 13 µs\n",
    "# Wall time: 16.2 µs\n",
    "# 10000000"
   ]
  },
  {
   "cell_type": "code",
   "execution_count": 24,
   "id": "fad31c4b-36fa-40e6-9d7f-60c26922bc58",
   "metadata": {},
   "outputs": [
    {
     "name": "stdout",
     "output_type": "stream",
     "text": [
      "CPU times: user 13 µs, sys: 1e+03 ns, total: 14 µs\n",
      "Wall time: 17.2 µs\n"
     ]
    },
    {
     "data": {
      "text/plain": [
       "10000000"
      ]
     },
     "execution_count": 24,
     "metadata": {},
     "output_type": "execute_result"
    }
   ],
   "source": [
    "%%time\n",
    "len(geo_package_gdf)\n",
    "# CPU times: user 13 µs, sys: 1e+03 ns, total: 14 µs\n",
    "# Wall time: 17.2 µs\n",
    "# 10000000"
   ]
  },
  {
   "cell_type": "code",
   "execution_count": 27,
   "id": "4492f798-83a9-475a-9b5f-01800d788f9c",
   "metadata": {},
   "outputs": [
    {
     "name": "stdout",
     "output_type": "stream",
     "text": [
      "CPU times: user 10 µs, sys: 1e+03 ns, total: 11 µs\n",
      "Wall time: 13.8 µs\n"
     ]
    },
    {
     "data": {
      "text/plain": [
       "10000000"
      ]
     },
     "execution_count": 27,
     "metadata": {},
     "output_type": "execute_result"
    }
   ],
   "source": [
    "%%time\n",
    "len(flat_geobuf_gdf)\n",
    "# CPU times: user 10 µs, sys: 1e+03 ns, total: 11 µs\n",
    "# Wall time: 13.8 µs\n",
    "# 10000000"
   ]
  },
  {
   "cell_type": "code",
   "execution_count": 28,
   "id": "0f079bfb-9e2c-42f3-b5ee-940e35ffa7ff",
   "metadata": {},
   "outputs": [
    {
     "name": "stdout",
     "output_type": "stream",
     "text": [
      "CPU times: user 11 µs, sys: 1e+03 ns, total: 12 µs\n",
      "Wall time: 15.3 µs\n"
     ]
    },
    {
     "data": {
      "text/plain": [
       "10000000"
      ]
     },
     "execution_count": 28,
     "metadata": {},
     "output_type": "execute_result"
    }
   ],
   "source": [
    "%%time\n",
    "len(geojson_gdf)\n",
    "# CPU times: user 11 µs, sys: 1e+03 ns, total: 12 µs\n",
    "# Wall time: 15.3 µs\n",
    "# 10000000"
   ]
  },
  {
   "cell_type": "code",
   "execution_count": 29,
   "id": "97f4c79d-dfae-4969-b972-1ad1143d60cc",
   "metadata": {},
   "outputs": [
    {
     "name": "stdout",
     "output_type": "stream",
     "text": [
      "CPU times: user 12 µs, sys: 1e+03 ns, total: 13 µs\n",
      "Wall time: 32.9 µs\n"
     ]
    },
    {
     "data": {
      "text/plain": [
       "10000000"
      ]
     },
     "execution_count": 29,
     "metadata": {},
     "output_type": "execute_result"
    }
   ],
   "source": [
    "%%time\n",
    "len(shapefile_gdf)\n",
    "# CPU times: user 12 µs, sys: 1e+03 ns, total: 13 µs\n",
    "# Wall time: 32.9 µs\n",
    "# 10000000"
   ]
  }
 ],
 "metadata": {
  "kernelspec": {
   "display_name": "Python 3 (ipykernel)",
   "language": "python",
   "name": "python3"
  },
  "language_info": {
   "codemirror_mode": {
    "name": "ipython",
    "version": 3
   },
   "file_extension": ".py",
   "mimetype": "text/x-python",
   "name": "python",
   "nbconvert_exporter": "python",
   "pygments_lexer": "ipython3",
   "version": "3.9.12"
  }
 },
 "nbformat": 4,
 "nbformat_minor": 5
}
